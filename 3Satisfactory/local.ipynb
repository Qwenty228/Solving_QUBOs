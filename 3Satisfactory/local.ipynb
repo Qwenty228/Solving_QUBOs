{
 "cells": [
  {
   "cell_type": "markdown",
   "metadata": {},
   "source": [
    "## 3-Satisfiability (3-SAT) Problem\n",
    "\n",
    "The **3-Satisfiability Problem (3-SAT)** is a classic decision problem in computer science and combinatorial optimization. It is a specific case of the Boolean satisfiability problem (SAT), where each clause in the formula contains **exactly three literals**.\n",
    "\n",
    "### Definition:\n",
    "Given:\n",
    "- A set of Boolean variables $( x_1, x_2, \\dots, x_n )$,\n",
    "- A Boolean formula in **Conjunctive Normal Form (CNF)**, composed of ( m ) clauses, each containing **three literals** (variables or their negations),\n",
    "\n",
    "The objective is to determine whether there exists an assignment of the variables ( x_i ) such that the entire formula evaluates to **True**.\n",
    "\n",
    "### Example:\n",
    "A 3-SAT formula:\n",
    "$[\n",
    "(x_1 \\lor \\neg x_2 \\lor x_3) \\land (\\neg x_1 \\lor x_2 \\lor x_4) \\land (x_2 \\lor x_3 \\lor \\neg x_4)\n",
    "]$\n",
    "Here:\n",
    "- Each clause (e.g., ( x_1 \\lor \\neg x_2 \\lor x_3 )) has exactly three literals.\n",
    "- The goal is to assign True/False to ( x_1, x_2, x_3, x_4 ) to satisfy the formula.\n",
    "\n",
    "The 3-SAT problem is **NP-complete**, meaning it is computationally difficult to solve exactly for large inputs, but solutions can be verified efficiently."
   ]
  },
  {
   "cell_type": "markdown",
   "metadata": {},
   "source": [
    "## References\n",
    "[1] Solve utility-scale quantum optimization problems:  \n",
    "[qiskit QAOA](https://learning.quantum.ibm.com/tutorial/quantum-approximate-optimization-algorithm)\\\n",
    "[2] 3SAT by [YeYethePooh](https://github.com/YeYethePooh):  \n",
    "[3SAT benchmark](https://github.com/xjyribro/qubo_benchmarking/tree/main/3SAT)\n"
   ]
  },
  {
   "cell_type": "code",
   "execution_count": 13,
   "metadata": {},
   "outputs": [
    {
     "name": "stdout",
     "output_type": "stream",
     "text": [
      "n: 20, m: 91\n"
     ]
    }
   ],
   "source": [
    "from sat import ThreeSat\n",
    "import os\n",
    "\n",
    "problem = os.path.join(os.getcwd(), \"Satisfiable\\\\uf20-91\\\\uf20-01.cnf\")\n",
    "\n",
    "threesat = ThreeSat(problem)\n",
    "print(f\"n: {threesat.num_n}, m: {threesat.num_m}\")"
   ]
  },
  {
   "cell_type": "code",
   "execution_count": null,
   "metadata": {},
   "outputs": [],
   "source": []
  }
 ],
 "metadata": {
  "kernelspec": {
   "display_name": ".venv",
   "language": "python",
   "name": "python3"
  },
  "language_info": {
   "codemirror_mode": {
    "name": "ipython",
    "version": 3
   },
   "file_extension": ".py",
   "mimetype": "text/x-python",
   "name": "python",
   "nbconvert_exporter": "python",
   "pygments_lexer": "ipython3",
   "version": "3.12.0"
  }
 },
 "nbformat": 4,
 "nbformat_minor": 2
}
